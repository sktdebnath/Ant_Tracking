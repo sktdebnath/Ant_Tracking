{
  "nbformat": 4,
  "nbformat_minor": 0,
  "metadata": {
    "colab": {
      "provenance": []
    },
    "kernelspec": {
      "name": "python3",
      "display_name": "Python 3"
    },
    "language_info": {
      "name": "python"
    }
  },
  "cells": [
    {
      "cell_type": "code",
      "execution_count": null,
      "metadata": {
        "id": "EbWadcFxzbxf"
      },
      "outputs": [],
      "source": [
        "!apt install ffmpeg\n",
        "!pip install alphashape\n",
        "!pip install descartes\n",
        "!pip install trackpy\n",
        "!pip install pims"
      ]
    },
    {
      "cell_type": "code",
      "source": [
        "import cv2\n",
        "import pandas as pd\n",
        "import numpy as np\n",
        "import matplotlib.pyplot as plt\n",
        "from descartes import PolygonPatch\n",
        "import alphashape\n",
        "from sklearn.metrics import DistanceMetric\n",
        "import scipy.stats as stats\n",
        "from google.colab import files\n",
        "import pims\n",
        "import trackpy as tp"
      ],
      "metadata": {
        "id": "Pd8JWmFL4sxq"
      },
      "execution_count": null,
      "outputs": []
    },
    {
      "cell_type": "code",
      "source": [
        "uploaded = files.upload()"
      ],
      "metadata": {
        "colab": {
          "base_uri": "https://localhost:8080/",
          "height": 74
        },
        "id": "QT-ftPRN4v1Y",
        "outputId": "d758d064-c006-489c-fddb-48496264331d"
      },
      "execution_count": null,
      "outputs": [
        {
          "output_type": "display_data",
          "data": {
            "text/plain": [
              "<IPython.core.display.HTML object>"
            ],
            "text/html": [
              "\n",
              "     <input type=\"file\" id=\"files-7c2a05cf-4cd9-44fa-9622-b3b015d0dfbc\" name=\"files[]\" multiple disabled\n",
              "        style=\"border:none\" />\n",
              "     <output id=\"result-7c2a05cf-4cd9-44fa-9622-b3b015d0dfbc\">\n",
              "      Upload widget is only available when the cell has been executed in the\n",
              "      current browser session. Please rerun this cell to enable.\n",
              "      </output>\n",
              "      <script>// Copyright 2017 Google LLC\n",
              "//\n",
              "// Licensed under the Apache License, Version 2.0 (the \"License\");\n",
              "// you may not use this file except in compliance with the License.\n",
              "// You may obtain a copy of the License at\n",
              "//\n",
              "//      http://www.apache.org/licenses/LICENSE-2.0\n",
              "//\n",
              "// Unless required by applicable law or agreed to in writing, software\n",
              "// distributed under the License is distributed on an \"AS IS\" BASIS,\n",
              "// WITHOUT WARRANTIES OR CONDITIONS OF ANY KIND, either express or implied.\n",
              "// See the License for the specific language governing permissions and\n",
              "// limitations under the License.\n",
              "\n",
              "/**\n",
              " * @fileoverview Helpers for google.colab Python module.\n",
              " */\n",
              "(function(scope) {\n",
              "function span(text, styleAttributes = {}) {\n",
              "  const element = document.createElement('span');\n",
              "  element.textContent = text;\n",
              "  for (const key of Object.keys(styleAttributes)) {\n",
              "    element.style[key] = styleAttributes[key];\n",
              "  }\n",
              "  return element;\n",
              "}\n",
              "\n",
              "// Max number of bytes which will be uploaded at a time.\n",
              "const MAX_PAYLOAD_SIZE = 100 * 1024;\n",
              "\n",
              "function _uploadFiles(inputId, outputId) {\n",
              "  const steps = uploadFilesStep(inputId, outputId);\n",
              "  const outputElement = document.getElementById(outputId);\n",
              "  // Cache steps on the outputElement to make it available for the next call\n",
              "  // to uploadFilesContinue from Python.\n",
              "  outputElement.steps = steps;\n",
              "\n",
              "  return _uploadFilesContinue(outputId);\n",
              "}\n",
              "\n",
              "// This is roughly an async generator (not supported in the browser yet),\n",
              "// where there are multiple asynchronous steps and the Python side is going\n",
              "// to poll for completion of each step.\n",
              "// This uses a Promise to block the python side on completion of each step,\n",
              "// then passes the result of the previous step as the input to the next step.\n",
              "function _uploadFilesContinue(outputId) {\n",
              "  const outputElement = document.getElementById(outputId);\n",
              "  const steps = outputElement.steps;\n",
              "\n",
              "  const next = steps.next(outputElement.lastPromiseValue);\n",
              "  return Promise.resolve(next.value.promise).then((value) => {\n",
              "    // Cache the last promise value to make it available to the next\n",
              "    // step of the generator.\n",
              "    outputElement.lastPromiseValue = value;\n",
              "    return next.value.response;\n",
              "  });\n",
              "}\n",
              "\n",
              "/**\n",
              " * Generator function which is called between each async step of the upload\n",
              " * process.\n",
              " * @param {string} inputId Element ID of the input file picker element.\n",
              " * @param {string} outputId Element ID of the output display.\n",
              " * @return {!Iterable<!Object>} Iterable of next steps.\n",
              " */\n",
              "function* uploadFilesStep(inputId, outputId) {\n",
              "  const inputElement = document.getElementById(inputId);\n",
              "  inputElement.disabled = false;\n",
              "\n",
              "  const outputElement = document.getElementById(outputId);\n",
              "  outputElement.innerHTML = '';\n",
              "\n",
              "  const pickedPromise = new Promise((resolve) => {\n",
              "    inputElement.addEventListener('change', (e) => {\n",
              "      resolve(e.target.files);\n",
              "    });\n",
              "  });\n",
              "\n",
              "  const cancel = document.createElement('button');\n",
              "  inputElement.parentElement.appendChild(cancel);\n",
              "  cancel.textContent = 'Cancel upload';\n",
              "  const cancelPromise = new Promise((resolve) => {\n",
              "    cancel.onclick = () => {\n",
              "      resolve(null);\n",
              "    };\n",
              "  });\n",
              "\n",
              "  // Wait for the user to pick the files.\n",
              "  const files = yield {\n",
              "    promise: Promise.race([pickedPromise, cancelPromise]),\n",
              "    response: {\n",
              "      action: 'starting',\n",
              "    }\n",
              "  };\n",
              "\n",
              "  cancel.remove();\n",
              "\n",
              "  // Disable the input element since further picks are not allowed.\n",
              "  inputElement.disabled = true;\n",
              "\n",
              "  if (!files) {\n",
              "    return {\n",
              "      response: {\n",
              "        action: 'complete',\n",
              "      }\n",
              "    };\n",
              "  }\n",
              "\n",
              "  for (const file of files) {\n",
              "    const li = document.createElement('li');\n",
              "    li.append(span(file.name, {fontWeight: 'bold'}));\n",
              "    li.append(span(\n",
              "        `(${file.type || 'n/a'}) - ${file.size} bytes, ` +\n",
              "        `last modified: ${\n",
              "            file.lastModifiedDate ? file.lastModifiedDate.toLocaleDateString() :\n",
              "                                    'n/a'} - `));\n",
              "    const percent = span('0% done');\n",
              "    li.appendChild(percent);\n",
              "\n",
              "    outputElement.appendChild(li);\n",
              "\n",
              "    const fileDataPromise = new Promise((resolve) => {\n",
              "      const reader = new FileReader();\n",
              "      reader.onload = (e) => {\n",
              "        resolve(e.target.result);\n",
              "      };\n",
              "      reader.readAsArrayBuffer(file);\n",
              "    });\n",
              "    // Wait for the data to be ready.\n",
              "    let fileData = yield {\n",
              "      promise: fileDataPromise,\n",
              "      response: {\n",
              "        action: 'continue',\n",
              "      }\n",
              "    };\n",
              "\n",
              "    // Use a chunked sending to avoid message size limits. See b/62115660.\n",
              "    let position = 0;\n",
              "    do {\n",
              "      const length = Math.min(fileData.byteLength - position, MAX_PAYLOAD_SIZE);\n",
              "      const chunk = new Uint8Array(fileData, position, length);\n",
              "      position += length;\n",
              "\n",
              "      const base64 = btoa(String.fromCharCode.apply(null, chunk));\n",
              "      yield {\n",
              "        response: {\n",
              "          action: 'append',\n",
              "          file: file.name,\n",
              "          data: base64,\n",
              "        },\n",
              "      };\n",
              "\n",
              "      let percentDone = fileData.byteLength === 0 ?\n",
              "          100 :\n",
              "          Math.round((position / fileData.byteLength) * 100);\n",
              "      percent.textContent = `${percentDone}% done`;\n",
              "\n",
              "    } while (position < fileData.byteLength);\n",
              "  }\n",
              "\n",
              "  // All done.\n",
              "  yield {\n",
              "    response: {\n",
              "      action: 'complete',\n",
              "    }\n",
              "  };\n",
              "}\n",
              "\n",
              "scope.google = scope.google || {};\n",
              "scope.google.colab = scope.google.colab || {};\n",
              "scope.google.colab._files = {\n",
              "  _uploadFiles,\n",
              "  _uploadFilesContinue,\n",
              "};\n",
              "})(self);\n",
              "</script> "
            ]
          },
          "metadata": {}
        },
        {
          "output_type": "stream",
          "name": "stdout",
          "text": [
            "Saving WhatsApp Video 2024-05-05 at 11.20.08 AM.mp4 to WhatsApp Video 2024-05-05 at 11.20.08 AM.mp4\n"
          ]
        }
      ]
    },
    {
      "cell_type": "code",
      "source": [
        "!rm *png\n",
        "!mv \"WhatsApp Video 2024-05-05 at 11.20.08 AM.mp4\" test.avi\n",
        "!ffmpeg -i test.avi %05d.png"
      ],
      "metadata": {
        "id": "uH14YrYTEzvN"
      },
      "execution_count": null,
      "outputs": []
    },
    {
      "cell_type": "code",
      "source": [
        "# Original Image\n",
        "file_path       = \"00005.png\"\n",
        "original_image  = cv2.imread(file_path, cv2.IMREAD_GRAYSCALE)\n",
        "\n",
        "plt.imshow(cv2.cvtColor(original_image[200:350, 200:450], cv2.COLOR_BGR2RGB))\n",
        "plt.show()"
      ],
      "metadata": {
        "colab": {
          "base_uri": "https://localhost:8080/",
          "height": 362
        },
        "id": "vdkm2LccH4mc",
        "outputId": "109c5b7c-7aea-4e5b-b1b1-8737b25f91e5"
      },
      "execution_count": null,
      "outputs": [
        {
          "output_type": "display_data",
          "data": {
            "text/plain": [
              "<Figure size 640x480 with 1 Axes>"
            ],
            "image/png": "[encoded data removed]"
          },
          "metadata": {}
        }
      ]
    },
    {
      "cell_type": "code",
      "source": [
        "# Binary Thresholding with 170 has been found to be a good choice\n",
        "####################################################################\n",
        "_,th_bin    = cv2.threshold(original_image,100,255,cv2.THRESH_BINARY)\n",
        "th_bin_crop = th_bin[200:350, 200:450]\n",
        "th_bin_crop = cv2.bitwise_not(th_bin_crop)\n",
        "\n",
        "plt.imshow(cv2.cvtColor(th_bin_crop, cv2.COLOR_BGR2RGB))\n",
        "plt.show()"
      ],
      "metadata": {
        "colab": {
          "base_uri": "https://localhost:8080/",
          "height": 362
        },
        "id": "tkrsfKzBIEmH",
        "outputId": "d628470a-621a-4f3b-ae4f-b2a90a9c0043"
      },
      "execution_count": null,
      "outputs": [
        {
          "output_type": "display_data",
          "data": {
            "text/plain": [
              "<Figure size 640x480 with 1 Axes>"
            ],
            "image/png": "[encoded data removed]"
          },
          "metadata": {}
        }
      ]
    },
    {
      "cell_type": "code",
      "source": [
        "th_bin_crop.shape"
      ],
      "metadata": {
        "colab": {
          "base_uri": "https://localhost:8080/"
        },
        "id": "QlfJlU97YREZ",
        "outputId": "f56673d7-b6f7-4d90-e781-c5c8278c1acf"
      },
      "execution_count": null,
      "outputs": [
        {
          "output_type": "execute_result",
          "data": {
            "text/plain": [
              "(150, 250)"
            ]
          },
          "metadata": {},
          "execution_count": 77
        }
      ]
    },
    {
      "cell_type": "code",
      "source": [
        "#Preprocessing to get uniform circles for trackpy\n",
        "num_files = 50\n",
        "for i in range(1, num_files + 1):\n",
        "  filename        = f\"{str(i).zfill(5)}.png\"  # Pad with zeros to ensure 5-digit format\n",
        "  original_image  = cv2.imread(filename, cv2.IMREAD_GRAYSCALE)\n",
        "  original_image  = original_image[200:350, 200:450]\n",
        "  blank_image     = np.zeros(original_image.shape, dtype=original_image.dtype)\n",
        "\n",
        "  # Binary Thresholding with 150 has been found to be a good choice\n",
        "  _,th_bin    = cv2.threshold(original_image,100,255,cv2.THRESH_BINARY)\n",
        "  th_bin      = cv2.bitwise_not(th_bin)\n",
        "\n",
        "  #Finding contours\n",
        "  contour = cv2.findContours(th_bin, cv2.RETR_EXTERNAL, cv2.CHAIN_APPROX_SIMPLE)[0]\n",
        "  cnts    = [c for c in contour if cv2.contourArea(c) > 0] #Area must be a positive number\n",
        "\n",
        "  for r in cnts:\n",
        "    M = cv2.moments(r)\n",
        "    if M['m00'] != 0:\n",
        "      cx        = int(M['m10']/M['m00'])\n",
        "      cy        = int(M['m01']/M['m00'])\n",
        "      area_xy   = cv2.contourArea(r)\n",
        "      radius_xy = int(np.sqrt(area_xy/np.pi))+1\n",
        "\n",
        "      #center_xy.append([cx,cy,area_xy])\n",
        "      cv2.circle(blank_image, (cx, cy), 7, (0,0,0), -1)       # this is overwriting blank_bw_image\n",
        "      cv2.circle(blank_image, (cx, cy), 5, (255,255,255), -1) # this is overwriting blank_bw_image\n",
        "\n",
        "  if i ==25:      #Print for checking\n",
        "    print(\"Number of features for frame 25:\", len(cnts))\n",
        "\n",
        "  export_name = \"export_\"+ str(filename)\n",
        "  #plt.figure(figsize=(int(original_image.shape[0]*2/72),\n",
        "  #                   int(original_image.shape[1]*2/72)))\n",
        "  plt.axis('off')\n",
        "  plt.imshow(cv2.cvtColor(blank_image, cv2.COLOR_BGR2RGB))\n",
        "  plt.savefig(export_name, bbox_inches='tight', pad_inches = 0)\n",
        "  plt.close()"
      ],
      "metadata": {
        "colab": {
          "base_uri": "https://localhost:8080/"
        },
        "id": "3cGZkScxNM-X",
        "outputId": "79ca88e1-a064-481f-98c8-812f028da618"
      },
      "execution_count": null,
      "outputs": [
        {
          "output_type": "stream",
          "name": "stdout",
          "text": [
            "Number of features for frame 25: 1\n"
          ]
        }
      ]
    },
    {
      "cell_type": "code",
      "source": [
        "original_image.shape"
      ],
      "metadata": {
        "colab": {
          "base_uri": "https://localhost:8080/"
        },
        "id": "r-CUr69oYKmB",
        "outputId": "4bc9ac69-1e50-4378-e8fd-0b1f60c49d7d"
      },
      "execution_count": null,
      "outputs": [
        {
          "output_type": "execute_result",
          "data": {
            "text/plain": [
              "(150, 250)"
            ]
          },
          "metadata": {},
          "execution_count": 124
        }
      ]
    },
    {
      "cell_type": "code",
      "source": [
        "file_path       = \"export_00001.png\"\n",
        "export_image    = cv2.imread(file_path, cv2.IMREAD_GRAYSCALE)\n",
        "export_image.shape"
      ],
      "metadata": {
        "colab": {
          "base_uri": "https://localhost:8080/"
        },
        "id": "uRZUxWSVb-CM",
        "outputId": "6e90b990-dd4e-4f1f-c6f3-c3793f896082"
      },
      "execution_count": null,
      "outputs": [
        {
          "output_type": "execute_result",
          "data": {
            "text/plain": [
              "(297, 496)"
            ]
          },
          "metadata": {},
          "execution_count": 125
        }
      ]
    },
    {
      "cell_type": "code",
      "source": [
        "#Read multiple images from the directory\n",
        "#Also, convert the images to grey by just using the green channel image\n",
        "#We can also use built in method: pims.as_grey\n",
        "@pims.pipeline\n",
        "def gray(image):\n",
        "    return image[:, :, 1]  # Take just the green channel\n",
        "\n",
        "frames = gray(pims.open('/content/export_*.png'))"
      ],
      "metadata": {
        "id": "Xxh8lRHINvhS"
      },
      "execution_count": null,
      "outputs": []
    },
    {
      "cell_type": "code",
      "source": [
        "#Optimize search radius\n",
        "for i in range(3,20,2):\n",
        "  f = tp.locate(frames[24], i)\n",
        "  print(\"No. of features for radius\", i, \"is\", len(f))"
      ],
      "metadata": {
        "colab": {
          "base_uri": "https://localhost:8080/"
        },
        "id": "kwVbQ01fOC29",
        "outputId": "b505d169-f018-4ab6-8599-1c5f2913cb4e"
      },
      "execution_count": null,
      "outputs": [
        {
          "output_type": "stream",
          "name": "stdout",
          "text": [
            "No. of features for radius 3 is 12\n",
            "No. of features for radius 5 is 5\n",
            "No. of features for radius 7 is 4\n",
            "No. of features for radius 9 is 4\n",
            "No. of features for radius 11 is 1\n",
            "No. of features for radius 13 is 1\n",
            "No. of features for radius 15 is 1\n",
            "No. of features for radius 17 is 1\n",
            "No. of features for radius 19 is 1\n"
          ]
        }
      ]
    },
    {
      "cell_type": "code",
      "source": [
        "#Radius =7 is the most accurate.\n",
        "f = tp.locate(frames[0], 19)\n",
        "# As it can be seen, radius 7 has detected features perfectly\n",
        "tp.annotate(f, frames[0])"
      ],
      "metadata": {
        "colab": {
          "base_uri": "https://localhost:8080/",
          "height": 379
        },
        "id": "LuPR9hDIOHYK",
        "outputId": "bf2ff14e-0eba-450a-9e7e-b7be8cb9ef51"
      },
      "execution_count": null,
      "outputs": [
        {
          "output_type": "display_data",
          "data": {
            "text/plain": [
              "<Figure size 640x480 with 1 Axes>"
            ],
            "image/png": "[encoded data removed]"
          },
          "metadata": {}
        },
        {
          "output_type": "execute_result",
          "data": {
            "text/plain": [
              "<Axes: >"
            ]
          },
          "metadata": {},
          "execution_count": 128
        }
      ]
    },
    {
      "cell_type": "code",
      "source": [
        "# We use tp.batch, which calls tp.locate on each frame to locate features on each frame\n",
        "f          = tp.batch(frames[:50], 19)   # first 75 frames, radius 7\n",
        "t          = tp.link(f, 17, memory=5)   # Link features into particle trajectories. maximum displacement is 17 pixel"
      ],
      "metadata": {
        "colab": {
          "base_uri": "https://localhost:8080/"
        },
        "id": "Re_BCoEkOLIg",
        "outputId": "70db1047-1cc1-45c2-a1df-25e1eba486ca"
      },
      "execution_count": null,
      "outputs": [
        {
          "output_type": "stream",
          "name": "stdout",
          "text": [
            "Frame 49: 1 trajectories present.\n"
          ]
        }
      ]
    },
    {
      "cell_type": "code",
      "source": [
        "t"
      ],
      "metadata": {
        "id": "YFfxKWhDakiq"
      },
      "execution_count": null,
      "outputs": []
    },
    {
      "cell_type": "code",
      "source": [
        "# Create a figure and axes\n",
        "fig, ax = plt.subplots()\n",
        "\n",
        "# Plot the image\n",
        "ax.imshow(original_image, cmap=\"gray\")\n",
        "ax.plot(t['x']/2, t['y']/2, '-')"
      ],
      "metadata": {
        "colab": {
          "base_uri": "https://localhost:8080/",
          "height": 379
        },
        "id": "BM0szSbfO3FI",
        "outputId": "32653798-1f20-404e-d408-4a09d32ce0e1"
      },
      "execution_count": null,
      "outputs": [
        {
          "output_type": "execute_result",
          "data": {
            "text/plain": [
              "[<matplotlib.lines.Line2D at 0x7d5967152380>]"
            ]
          },
          "metadata": {},
          "execution_count": 132
        },
        {
          "output_type": "display_data",
          "data": {
            "text/plain": [
              "<Figure size 640x480 with 1 Axes>"
            ],
            "image/png": "[encoded data removed]"
          },
          "metadata": {}
        }
      ]
    },
    {
      "cell_type": "code",
      "source": [
        "#Preprocessing to get uniform circles for trackpy\n",
        "num_files = 50\n",
        "for i in range(1, num_files + 1):\n",
        "  filename        = f\"{str(i).zfill(5)}.png\"  # Pad with zeros to ensure 5-digit format\n",
        "  original_image  = cv2.imread(filename, cv2.IMREAD_GRAYSCALE)\n",
        "  original_image  = original_image[200:350, 200:450]\n",
        "\n",
        "  export_name = \"track_export_\"+ str(filename)\n",
        "\n",
        "  # Create a figure and axes\n",
        "  fig, ax = plt.subplots()\n",
        "\n",
        "  # Plot the image\n",
        "  ax.imshow(original_image, cmap=\"gray\")\n",
        "  ax.plot(t['x']/2, t['y']/2, '-')\n",
        "\n",
        "  plt.savefig(export_name, bbox_inches='tight', pad_inches = .1)\n",
        "  plt.close()"
      ],
      "metadata": {
        "id": "dnjLGlQHOmOz"
      },
      "execution_count": null,
      "outputs": []
    },
    {
      "cell_type": "code",
      "source": [
        "!ffmpeg -framerate 5 -i track_export_%5d.png -c:v libx264 track_output.avi"
      ],
      "metadata": {
        "id": "T2rvbQ1gfg_h"
      },
      "execution_count": null,
      "outputs": []
    },
    {
      "cell_type": "code",
      "source": [],
      "metadata": {
        "id": "7bmReWOugEb9"
      },
      "execution_count": null,
      "outputs": []
    }
  ]
}